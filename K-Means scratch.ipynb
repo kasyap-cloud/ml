{
 "cells": [
  {
   "cell_type": "code",
   "execution_count": 2,
   "id": "5254e8e2",
   "metadata": {},
   "outputs": [
    {
     "name": "stdout",
     "output_type": "stream",
     "text": [
      "Initial Centroids\n",
      "[[0.90041806 0.63310146]\n",
      " [0.29214465 0.36636184]\n",
      " [0.22879817 0.07697991]]\n",
      "Final Centroids:\n",
      "[[0.8039633  0.57026999]\n",
      " [0.18520943 0.72228065]\n",
      " [0.36376248 0.20008043]]\n"
     ]
    },
    {
     "data": {
      "image/png": "[encoded data removed]",
      "text/plain": [
       "<Figure size 576x432 with 1 Axes>"
      ]
     },
     "metadata": {
      "needs_background": "light"
     },
     "output_type": "display_data"
    }
   ],
   "source": [
    "import numpy as np\n",
    "import matplotlib.pyplot as plt\n",
    "\n",
    "def euclidean_distance(point1, point2):\n",
    "    return np.sqrt(np.sum(np.square(point1 - point2)))\n",
    "\n",
    "def kmeans(data, k, max_iter=100):\n",
    "  \n",
    "    n_samples, n_features = data.shape\n",
    "    if not data.any():\n",
    "        raise ValueError(\"Data cannot be empty for K-Means clustering.\")\n",
    "\n",
    "    k = min(k, n_samples)\n",
    "    centroids = data[np.random.choice(n_samples, k, replace=False)]\n",
    "    print(\"Initial Centroids\")\n",
    "    print(centroids)\n",
    "\n",
    "    history = []\n",
    "    for _ in range(max_iter):\n",
    "        history.append(centroids.copy())\n",
    "\n",
    "        # Assign data points to closest centroids using Euclidean distance\n",
    "        distances = np.array([euclidean_distance(point, centroid) \n",
    "                              for point in data for centroid in centroids])\n",
    "        distances = distances.reshape(n_samples, -1)\n",
    "        labels = np.argmin(distances, axis=1)\n",
    "\n",
    "        # Update centroids as the mean of points in each cluster\n",
    "        for i in range(k):\n",
    "            cluster_data = data[labels == i]\n",
    "            if cluster_data.shape[0] > 0:  # Check for empty clusters\n",
    "                centroids[i] = np.mean(cluster_data, axis=0)\n",
    "\n",
    "        # Check for convergence (consider actual number of iterations)\n",
    "        if len(history) > 1 and np.all(np.equal(centroids, history[-1])):  # Consider previous iteration\n",
    "            break\n",
    "\n",
    "    return centroids, labels, history\n",
    "\n",
    "def plot_clusters(data, labels, centroids):\n",
    "  \n",
    "    plt.figure(figsize=(8, 6))\n",
    "    colors = plt.cm.get_cmap('viridis')(np.linspace(0, 1, len(np.unique(labels))))  # Use colormap for visual distinction\n",
    "    for i in range(len(np.unique(labels))):\n",
    "        plt.scatter(data[labels == i, 0], data[labels == i, 1], color=colors[i], label=f'Cluster {i+1}')\n",
    "    plt.scatter(centroids[:, 0], centroids[:, 1], marker='x', s=100, color='black', label='Centroids')\n",
    "    plt.title('K-Means Clustering')\n",
    "    plt.xlabel('Feature 1')\n",
    "    plt.ylabel('Feature 2')\n",
    "    plt.legend()\n",
    "    plt.grid(True)  # Add grid lines for better visualization\n",
    "    plt.show()\n",
    "\n",
    "# Example usage\n",
    "np.random.seed(42)\n",
    "data = np.random.rand(100, 2)\n",
    "\n",
    "# Create a KMeans object with k=3 clusters and max_iter=50\n",
    "try:\n",
    "    kmeans_obj = kmeans(data, k=3, max_iter=50)\n",
    "except ValueError as e:\n",
    "    print(e)\n",
    "else:\n",
    "    # Get the centroids, labels, and history\n",
    "    centroids, labels, history = kmeans_obj\n",
    "\n",
    "    # Print the final centroids\n",
    "    print(\"Final Centroids:\")\n",
    "    print(centroids)\n",
    "\n",
    "    # Plot the clusters\n",
    "    plot_clusters(data, labels, centroids)\n"
   ]
  },
  {
   "cell_type": "code",
   "execution_count": null,
   "id": "f63becaf",
   "metadata": {},
   "outputs": [],
   "source": []
  }
 ],
 "metadata": {
  "kernelspec": {
   "display_name": "Python 3 (ipykernel)",
   "language": "python",
   "name": "python3"
  },
  "language_info": {
   "codemirror_mode": {
    "name": "ipython",
    "version": 3
   },
   "file_extension": ".py",
   "mimetype": "text/x-python",
   "name": "python",
   "nbconvert_exporter": "python",
   "pygments_lexer": "ipython3",
   "version": "3.8.9"
  }
 },
 "nbformat": 4,
 "nbformat_minor": 5
}

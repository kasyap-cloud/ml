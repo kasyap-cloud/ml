{
 "cells": [
  {
   "cell_type": "code",
   "execution_count": 1,
   "id": "ce7aa841",
   "metadata": {},
   "outputs": [],
   "source": [
    "import pandas as pd\n",
    "import numpy as np\n",
    "import matplotlib.pyplot as plt\n",
    "import seaborn as sns\n",
    "import warnings\n",
    "warnings.filterwarnings('ignore')"
   ]
  },
  {
   "cell_type": "code",
   "execution_count": 2,
   "id": "b72a34ca",
   "metadata": {
    "scrolled": true
   },
   "outputs": [],
   "source": [
    "from fcmeans import FCM\n",
    "from sklearn.datasets import load_iris"
   ]
  },
  {
   "cell_type": "code",
   "execution_count": 3,
   "id": "13a456da",
   "metadata": {},
   "outputs": [],
   "source": [
    "iris=load_iris()"
   ]
  },
  {
   "cell_type": "code",
   "execution_count": 4,
   "id": "8e0bf7d4",
   "metadata": {},
   "outputs": [],
   "source": [
    "x=pd.DataFrame(iris.data,columns=iris.feature_names)\n",
    "y=pd.DataFrame(iris.target,columns=['Species'])"
   ]
  },
  {
   "cell_type": "code",
   "execution_count": 5,
   "id": "30a30bea",
   "metadata": {},
   "outputs": [
    {
     "data": {
      "text/html": [
       "<div>\n",
       "<style scoped>\n",
       "    .dataframe tbody tr th:only-of-type {\n",
       "        vertical-align: middle;\n",
       "    }\n",
       "\n",
       "    .dataframe tbody tr th {\n",
       "        vertical-align: top;\n",
       "    }\n",
       "\n",
       "    .dataframe thead th {\n",
       "        text-align: right;\n",
       "    }\n",
       "</style>\n",
       "<table border=\"1\" class=\"dataframe\">\n",
       "  <thead>\n",
       "    <tr style=\"text-align: right;\">\n",
       "      <th></th>\n",
       "      <th>sepal length (cm)</th>\n",
       "      <th>sepal width (cm)</th>\n",
       "      <th>petal length (cm)</th>\n",
       "      <th>petal width (cm)</th>\n",
       "    </tr>\n",
       "  </thead>\n",
       "  <tbody>\n",
       "    <tr>\n",
       "      <th>0</th>\n",
       "      <td>5.1</td>\n",
       "      <td>3.5</td>\n",
       "      <td>1.4</td>\n",
       "      <td>0.2</td>\n",
       "    </tr>\n",
       "    <tr>\n",
       "      <th>1</th>\n",
       "      <td>4.9</td>\n",
       "      <td>3.0</td>\n",
       "      <td>1.4</td>\n",
       "      <td>0.2</td>\n",
       "    </tr>\n",
       "    <tr>\n",
       "      <th>2</th>\n",
       "      <td>4.7</td>\n",
       "      <td>3.2</td>\n",
       "      <td>1.3</td>\n",
       "      <td>0.2</td>\n",
       "    </tr>\n",
       "    <tr>\n",
       "      <th>3</th>\n",
       "      <td>4.6</td>\n",
       "      <td>3.1</td>\n",
       "      <td>1.5</td>\n",
       "      <td>0.2</td>\n",
       "    </tr>\n",
       "    <tr>\n",
       "      <th>4</th>\n",
       "      <td>5.0</td>\n",
       "      <td>3.6</td>\n",
       "      <td>1.4</td>\n",
       "      <td>0.2</td>\n",
       "    </tr>\n",
       "  </tbody>\n",
       "</table>\n",
       "</div>"
      ],
      "text/plain": [
       "   sepal length (cm)  sepal width (cm)  petal length (cm)  petal width (cm)\n",
       "0                5.1               3.5                1.4               0.2\n",
       "1                4.9               3.0                1.4               0.2\n",
       "2                4.7               3.2                1.3               0.2\n",
       "3                4.6               3.1                1.5               0.2\n",
       "4                5.0               3.6                1.4               0.2"
      ]
     },
     "execution_count": 5,
     "metadata": {},
     "output_type": "execute_result"
    }
   ],
   "source": [
    "x.head()"
   ]
  },
  {
   "cell_type": "code",
   "execution_count": 6,
   "id": "8ed6351b",
   "metadata": {},
   "outputs": [
    {
     "data": {
      "text/html": [
       "<div>\n",
       "<style scoped>\n",
       "    .dataframe tbody tr th:only-of-type {\n",
       "        vertical-align: middle;\n",
       "    }\n",
       "\n",
       "    .dataframe tbody tr th {\n",
       "        vertical-align: top;\n",
       "    }\n",
       "\n",
       "    .dataframe thead th {\n",
       "        text-align: right;\n",
       "    }\n",
       "</style>\n",
       "<table border=\"1\" class=\"dataframe\">\n",
       "  <thead>\n",
       "    <tr style=\"text-align: right;\">\n",
       "      <th></th>\n",
       "      <th>Species</th>\n",
       "    </tr>\n",
       "  </thead>\n",
       "  <tbody>\n",
       "    <tr>\n",
       "      <th>0</th>\n",
       "      <td>0</td>\n",
       "    </tr>\n",
       "    <tr>\n",
       "      <th>1</th>\n",
       "      <td>0</td>\n",
       "    </tr>\n",
       "    <tr>\n",
       "      <th>2</th>\n",
       "      <td>0</td>\n",
       "    </tr>\n",
       "    <tr>\n",
       "      <th>3</th>\n",
       "      <td>0</td>\n",
       "    </tr>\n",
       "    <tr>\n",
       "      <th>4</th>\n",
       "      <td>0</td>\n",
       "    </tr>\n",
       "  </tbody>\n",
       "</table>\n",
       "</div>"
      ],
      "text/plain": [
       "   Species\n",
       "0        0\n",
       "1        0\n",
       "2        0\n",
       "3        0\n",
       "4        0"
      ]
     },
     "execution_count": 6,
     "metadata": {},
     "output_type": "execute_result"
    }
   ],
   "source": [
    "y.head()"
   ]
  },
  {
   "cell_type": "code",
   "execution_count": 7,
   "id": "d9050e00",
   "metadata": {},
   "outputs": [],
   "source": [
    "fcm=FCM(n_cluster=3)\n",
    "fcm.fit(x.values)\n",
    "fcm_centers=fcm.centers\n",
    "fcm_labels=fcm.predict(x.values)\n",
    "fcm_centers=pd.DataFrame(fcm_centers)"
   ]
  },
  {
   "cell_type": "code",
   "execution_count": 8,
   "id": "6a933988",
   "metadata": {},
   "outputs": [
    {
     "data": {
      "text/html": [
       "<div>\n",
       "<style scoped>\n",
       "    .dataframe tbody tr th:only-of-type {\n",
       "        vertical-align: middle;\n",
       "    }\n",
       "\n",
       "    .dataframe tbody tr th {\n",
       "        vertical-align: top;\n",
       "    }\n",
       "\n",
       "    .dataframe thead th {\n",
       "        text-align: right;\n",
       "    }\n",
       "</style>\n",
       "<table border=\"1\" class=\"dataframe\">\n",
       "  <thead>\n",
       "    <tr style=\"text-align: right;\">\n",
       "      <th></th>\n",
       "      <th>0</th>\n",
       "      <th>1</th>\n",
       "      <th>2</th>\n",
       "      <th>3</th>\n",
       "    </tr>\n",
       "  </thead>\n",
       "  <tbody>\n",
       "    <tr>\n",
       "      <th>0</th>\n",
       "      <td>6.525152</td>\n",
       "      <td>3.037418</td>\n",
       "      <td>5.447160</td>\n",
       "      <td>2.084175</td>\n",
       "    </tr>\n",
       "    <tr>\n",
       "      <th>1</th>\n",
       "      <td>7.437369</td>\n",
       "      <td>3.079715</td>\n",
       "      <td>6.277320</td>\n",
       "      <td>2.052802</td>\n",
       "    </tr>\n",
       "    <tr>\n",
       "      <th>2</th>\n",
       "      <td>6.190780</td>\n",
       "      <td>2.877974</td>\n",
       "      <td>4.709952</td>\n",
       "      <td>1.557172</td>\n",
       "    </tr>\n",
       "    <tr>\n",
       "      <th>3</th>\n",
       "      <td>4.998878</td>\n",
       "      <td>3.418086</td>\n",
       "      <td>1.467942</td>\n",
       "      <td>0.246161</td>\n",
       "    </tr>\n",
       "    <tr>\n",
       "      <th>4</th>\n",
       "      <td>5.585000</td>\n",
       "      <td>2.616656</td>\n",
       "      <td>3.949175</td>\n",
       "      <td>1.212126</td>\n",
       "    </tr>\n",
       "  </tbody>\n",
       "</table>\n",
       "</div>"
      ],
      "text/plain": [
       "          0         1         2         3\n",
       "0  6.525152  3.037418  5.447160  2.084175\n",
       "1  7.437369  3.079715  6.277320  2.052802\n",
       "2  6.190780  2.877974  4.709952  1.557172\n",
       "3  4.998878  3.418086  1.467942  0.246161\n",
       "4  5.585000  2.616656  3.949175  1.212126"
      ]
     },
     "execution_count": 8,
     "metadata": {},
     "output_type": "execute_result"
    }
   ],
   "source": [
    "fcm_centers"
   ]
  },
  {
   "cell_type": "code",
   "execution_count": 9,
   "id": "055e850a",
   "metadata": {},
   "outputs": [
    {
     "data": {
      "text/plain": [
       "array([3, 3, 3, 3, 3, 3, 3, 3, 3, 3, 3, 3, 3, 3, 3, 3, 3, 3, 3, 3, 3, 3,\n",
       "       3, 3, 3, 3, 3, 3, 3, 3, 3, 3, 3, 3, 3, 3, 3, 3, 3, 3, 3, 3, 3, 3,\n",
       "       3, 3, 3, 3, 3, 3, 2, 2, 2, 4, 2, 2, 2, 4, 2, 4, 4, 2, 4, 2, 4, 2,\n",
       "       2, 4, 2, 4, 2, 4, 2, 2, 2, 2, 2, 2, 2, 4, 4, 4, 4, 2, 4, 2, 2, 2,\n",
       "       4, 4, 4, 2, 4, 4, 4, 4, 4, 2, 4, 4, 0, 2, 1, 0, 0, 1, 4, 1, 0, 1,\n",
       "       0, 0, 0, 2, 0, 0, 0, 1, 1, 2, 0, 2, 1, 2, 0, 1, 2, 2, 0, 1, 1, 1,\n",
       "       0, 2, 0, 1, 0, 0, 2, 0, 0, 0, 2, 0, 0, 0, 2, 0, 0, 2], dtype=int64)"
      ]
     },
     "execution_count": 9,
     "metadata": {},
     "output_type": "execute_result"
    }
   ],
   "source": [
    "fcm_labels"
   ]
  },
  {
   "cell_type": "code",
   "execution_count": 10,
   "id": "b98d2787",
   "metadata": {},
   "outputs": [
    {
     "data": {
      "text/plain": [
       "<matplotlib.collections.PathCollection at 0x259a9c707c0>"
      ]
     },
     "execution_count": 10,
     "metadata": {},
     "output_type": "execute_result"
    },
    {
     "data": {
      "image/png": "[encoded data removed]",
      "text/plain": [
       "<Figure size 1100x500 with 2 Axes>"
      ]
     },
     "metadata": {},
     "output_type": "display_data"
    }
   ],
   "source": [
    "f,axes=plt.subplots(1,2,figsize=(11,5))\n",
    "axes[0].scatter(list(x.iloc[:,0]),list(x.iloc[:,1]),c=fcm_labels)\n",
    "axes[1].scatter(list(x.iloc[:,2]),list(x.iloc[:,3]),c=fcm_labels)\n",
    "axes[0].scatter(fcm_centers[0],fcm_centers[1],s=300,marker='*',c='b')\n",
    "axes[1].scatter(fcm_centers[2],fcm_centers[3],s=300,marker='*',c='b')"
   ]
  },
  {
   "cell_type": "code",
   "execution_count": 11,
   "id": "7792e724",
   "metadata": {},
   "outputs": [],
   "source": [
    "import numpy as np\n",
    "import pandas as pd\n",
    "import random\n",
    "import operator\n",
    "import matplotlib.pyplot as plt\n",
    "import math\n",
    "from scipy.stats import multivariate_normal\n",
    "import warnings\n",
    "warnings.filterwarnings('ignore')"
   ]
  },
  {
   "cell_type": "code",
   "execution_count": 12,
   "id": "ec90dca1",
   "metadata": {},
   "outputs": [
    {
     "data": {
      "image/png": "[encoded data removed]",
      "text/plain": [
       "<Figure size 640x480 with 1 Axes>"
      ]
     },
     "metadata": {},
     "output_type": "display_data"
    }
   ],
   "source": [
    "x1=[1,2,4,7]\n",
    "x2=[3,5,8,9]\n",
    "plt.xlabel('x1')\n",
    "plt.ylabel('x2')\n",
    "plt.scatter(x1,x2)\n",
    "plt.show()"
   ]
  },
  {
   "cell_type": "code",
   "execution_count": 13,
   "id": "02a223f2",
   "metadata": {},
   "outputs": [
    {
     "data": {
      "text/html": [
       "<div>\n",
       "<style scoped>\n",
       "    .dataframe tbody tr th:only-of-type {\n",
       "        vertical-align: middle;\n",
       "    }\n",
       "\n",
       "    .dataframe tbody tr th {\n",
       "        vertical-align: top;\n",
       "    }\n",
       "\n",
       "    .dataframe thead th {\n",
       "        text-align: right;\n",
       "    }\n",
       "</style>\n",
       "<table border=\"1\" class=\"dataframe\">\n",
       "  <thead>\n",
       "    <tr style=\"text-align: right;\">\n",
       "      <th></th>\n",
       "      <th>x1</th>\n",
       "      <th>x2</th>\n",
       "    </tr>\n",
       "  </thead>\n",
       "  <tbody>\n",
       "    <tr>\n",
       "      <th>0</th>\n",
       "      <td>1</td>\n",
       "      <td>3</td>\n",
       "    </tr>\n",
       "    <tr>\n",
       "      <th>1</th>\n",
       "      <td>2</td>\n",
       "      <td>5</td>\n",
       "    </tr>\n",
       "    <tr>\n",
       "      <th>2</th>\n",
       "      <td>4</td>\n",
       "      <td>8</td>\n",
       "    </tr>\n",
       "    <tr>\n",
       "      <th>3</th>\n",
       "      <td>7</td>\n",
       "      <td>9</td>\n",
       "    </tr>\n",
       "  </tbody>\n",
       "</table>\n",
       "</div>"
      ],
      "text/plain": [
       "   x1  x2\n",
       "0   1   3\n",
       "1   2   5\n",
       "2   4   8\n",
       "3   7   9"
      ]
     },
     "execution_count": 13,
     "metadata": {},
     "output_type": "execute_result"
    }
   ],
   "source": [
    "df=pd.DataFrame(list(zip(x1,x2)),columns=['x1','x2'])\n",
    "df"
   ]
  },
  {
   "cell_type": "code",
   "execution_count": 21,
   "id": "d3e63fdb",
   "metadata": {},
   "outputs": [],
   "source": [
    "np.random.seed(42)\n",
    "n=len(df)\n",
    "k=2\n",
    "d=2\n",
    "m=2\n",
    "max_iters=12"
   ]
  },
  {
   "cell_type": "code",
   "execution_count": 22,
   "id": "3467d7df",
   "metadata": {},
   "outputs": [],
   "source": [
    "def initializemembershipweights():\n",
    "    weight=np.random.dirichlet(np.ones(k),size=n)\n",
    "    weight_arr=np.array(weight)\n",
    "    return weight_arr"
   ]
  },
  {
   "cell_type": "code",
   "execution_count": 23,
   "id": "8f5b7c28",
   "metadata": {},
   "outputs": [],
   "source": [
    "def computecentroids(weight_arr):\n",
    "    c=[]\n",
    "    for i in range(k):\n",
    "        weight_sum=np.power(weight_arr[:,i],m).sum()\n",
    "        cj=[]\n",
    "        for x in range(d):\n",
    "            num=(df.iloc[:,x].values*np.power(weight_arr[:,1],m)).sum()\n",
    "            c_val=num/weight_sum\n",
    "            cj.append(c_val)\n",
    "        c.append(cj)\n",
    "    return c"
   ]
  },
  {
   "cell_type": "code",
   "execution_count": 24,
   "id": "64b9d9c8",
   "metadata": {},
   "outputs": [],
   "source": [
    "def updateweight(weight_arr,c):\n",
    "    denon=np.zeros(n)\n",
    "    for i in range(k):\n",
    "        dist=(df.iloc[:,:].values-c[i])**2\n",
    "        dist=np.square(dist)\n",
    "        denon=denon+np.power(1/dist,2/(m-1))\n",
    "    for j in range(k):\n",
    "        dist=(df.iloc[:,:].values-c[i])**2\n",
    "        dist=np.sum(dist,axis=1)\n",
    "        dist=np.square(dist)\n",
    "        weight_arr[:,1]=np.divide(np.power(1/dist,2/(m-1)),denon)\n",
    "    return weight_arr"
   ]
  },
  {
   "cell_type": "code",
   "execution_count": 25,
   "id": "c5720eff",
   "metadata": {},
   "outputs": [],
   "source": [
    "def plotData(z,c):\n",
    "    plt.subplot(4,3,z+1)\n",
    "    plt.scatter(list(df.iloc[:,0]),list(df.iloc[:,1]),s=200,marker='o')\n",
    "    for center in c:\n",
    "        plt.scatter(center[0],center[1],s=300,marker='o',color='r')\n",
    "        plt.axis('equal')\n",
    "        plt.xlabel('x',fontsize=20)\n",
    "        plt.ylabel('y',fontsize=20)"
   ]
  },
  {
   "cell_type": "code",
   "execution_count": 26,
   "id": "f42f338a",
   "metadata": {},
   "outputs": [],
   "source": [
    "def fuzzymeanalgorithm():\n",
    "    weight_arr=initializemembershipweights()\n",
    "    plt.figure(figsize=(50,50))\n",
    "    for z in range(max_iters):\n",
    "        c=computecentroids(weight_arr)\n",
    "        updateweight(weight_arr,c)\n",
    "        plotData(z,c)\n",
    "    plt.show()\n",
    "    return (weight_arr,c)"
   ]
  },
  {
   "cell_type": "code",
   "execution_count": 27,
   "id": "3fb64654",
   "metadata": {},
   "outputs": [
    {
     "ename": "ValueError",
     "evalue": "operands could not be broadcast together with shapes (4,) (4,2) ",
     "output_type": "error",
     "traceback": [
      "\u001b[1;31m---------------------------------------------------------------------------\u001b[0m",
      "\u001b[1;31mValueError\u001b[0m                                Traceback (most recent call last)",
      "Cell \u001b[1;32mIn[27], line 1\u001b[0m\n\u001b[1;32m----> 1\u001b[0m \u001b[43mfuzzymeanalgorithm\u001b[49m\u001b[43m(\u001b[49m\u001b[43m)\u001b[49m\n",
      "Cell \u001b[1;32mIn[26], line 6\u001b[0m, in \u001b[0;36mfuzzymeanalgorithm\u001b[1;34m()\u001b[0m\n\u001b[0;32m      4\u001b[0m \u001b[38;5;28;01mfor\u001b[39;00m z \u001b[38;5;129;01min\u001b[39;00m \u001b[38;5;28mrange\u001b[39m(max_iters):\n\u001b[0;32m      5\u001b[0m     c\u001b[38;5;241m=\u001b[39mcomputecentroids(weight_arr)\n\u001b[1;32m----> 6\u001b[0m     \u001b[43mupdateweight\u001b[49m\u001b[43m(\u001b[49m\u001b[43mweight_arr\u001b[49m\u001b[43m,\u001b[49m\u001b[43mc\u001b[49m\u001b[43m)\u001b[49m\n\u001b[0;32m      7\u001b[0m     plotData(z,c)\n\u001b[0;32m      8\u001b[0m plt\u001b[38;5;241m.\u001b[39mshow()\n",
      "Cell \u001b[1;32mIn[24], line 6\u001b[0m, in \u001b[0;36mupdateweight\u001b[1;34m(weight_arr, c)\u001b[0m\n\u001b[0;32m      4\u001b[0m     dist\u001b[38;5;241m=\u001b[39m(df\u001b[38;5;241m.\u001b[39miloc[:,:]\u001b[38;5;241m.\u001b[39mvalues\u001b[38;5;241m-\u001b[39mc[i])\u001b[38;5;241m*\u001b[39m\u001b[38;5;241m*\u001b[39m\u001b[38;5;241m2\u001b[39m\n\u001b[0;32m      5\u001b[0m     dist\u001b[38;5;241m=\u001b[39mnp\u001b[38;5;241m.\u001b[39msquare(dist)\n\u001b[1;32m----> 6\u001b[0m     denon\u001b[38;5;241m=\u001b[39m\u001b[43mdenon\u001b[49m\u001b[38;5;241;43m+\u001b[39;49m\u001b[43mnp\u001b[49m\u001b[38;5;241;43m.\u001b[39;49m\u001b[43mpower\u001b[49m\u001b[43m(\u001b[49m\u001b[38;5;241;43m1\u001b[39;49m\u001b[38;5;241;43m/\u001b[39;49m\u001b[43mdist\u001b[49m\u001b[43m,\u001b[49m\u001b[38;5;241;43m2\u001b[39;49m\u001b[38;5;241;43m/\u001b[39;49m\u001b[43m(\u001b[49m\u001b[43mm\u001b[49m\u001b[38;5;241;43m-\u001b[39;49m\u001b[38;5;241;43m1\u001b[39;49m\u001b[43m)\u001b[49m\u001b[43m)\u001b[49m\n\u001b[0;32m      7\u001b[0m \u001b[38;5;28;01mfor\u001b[39;00m j \u001b[38;5;129;01min\u001b[39;00m \u001b[38;5;28mrange\u001b[39m(k):\n\u001b[0;32m      8\u001b[0m     dist\u001b[38;5;241m=\u001b[39m(df\u001b[38;5;241m.\u001b[39miloc[:,:]\u001b[38;5;241m.\u001b[39mvalues\u001b[38;5;241m-\u001b[39mc[i])\u001b[38;5;241m*\u001b[39m\u001b[38;5;241m*\u001b[39m\u001b[38;5;241m2\u001b[39m\n",
      "\u001b[1;31mValueError\u001b[0m: operands could not be broadcast together with shapes (4,) (4,2) "
     ]
    },
    {
     "data": {
      "text/plain": [
       "<Figure size 5000x5000 with 0 Axes>"
      ]
     },
     "metadata": {},
     "output_type": "display_data"
    }
   ],
   "source": [
    "fuzzymeanalgorithm()"
   ]
  },
  {
   "cell_type": "code",
   "execution_count": null,
   "id": "427ea764",
   "metadata": {},
   "outputs": [],
   "source": []
  }
 ],
 "metadata": {
  "kernelspec": {
   "display_name": "Python 3 (ipykernel)",
   "language": "python",
   "name": "python3"
  },
  "language_info": {
   "codemirror_mode": {
    "name": "ipython",
    "version": 3
   },
   "file_extension": ".py",
   "mimetype": "text/x-python",
   "name": "python",
   "nbconvert_exporter": "python",
   "pygments_lexer": "ipython3",
   "version": "3.8.9"
  }
 },
 "nbformat": 4,
 "nbformat_minor": 5
}
